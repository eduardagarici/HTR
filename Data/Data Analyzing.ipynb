{
 "cells": [
  {
   "cell_type": "markdown",
   "metadata": {},
   "source": [
    "<h2> IAM </h2>\n"
   ]
  },
  {
   "cell_type": "code",
   "execution_count": 1,
   "metadata": {},
   "outputs": [],
   "source": [
    "import h5py\n",
    "import numpy as np\n",
    "\n",
    "root = \"G:/Licenta/Data/DateH5/IAM/\"\n",
    "train = root + \"labels_lines_train.h5\"\n",
    "test = root + \"labels_lines_test.h5\"\n",
    "valid1 = root + \"labels_lines_validation1.h5\"\n",
    "valid2 = root + \"labels_lines_validation2.h5\"\n",
    "\n",
    "\n"
   ]
  },
  {
   "cell_type": "code",
   "execution_count": 2,
   "metadata": {},
   "outputs": [
    {
     "name": "stderr",
     "output_type": "stream",
     "text": [
      "C:\\Users\\Eduard\\Anaconda3\\lib\\site-packages\\h5py\\_hl\\dataset.py:313: H5pyDeprecationWarning: dataset.value has been deprecated. Use dataset[()] instead.\n",
      "  \"Use dataset[()] instead.\", H5pyDeprecationWarning)\n"
     ]
    }
   ],
   "source": [
    "f = h5py.File(train, 'r')\n",
    "trainLabels = f.get(train[train.rfind('/') + 1:train.rfind('.')]).value\n",
    "f = h5py.File(test, 'r')\n",
    "testLabels = f.get(test[test.rfind('/') + 1:test.rfind('.')]).value\n",
    "f = h5py.File(valid1 , 'r')\n",
    "valid1Labels = f.get(valid1[valid1.rfind('/') + 1:valid1.rfind('.')]).value\n",
    "\n",
    "f = h5py.File(valid2, 'r')\n",
    "valid2Labels = f.get(valid2[valid2.rfind('/') + 1:valid2.rfind('.')]).value\n",
    "\n",
    "validLabels = np.append(valid1Labels,valid2Labels)"
   ]
  },
  {
   "cell_type": "code",
   "execution_count": 51,
   "metadata": {},
   "outputs": [
    {
     "name": "stdout",
     "output_type": "stream",
     "text": [
      "Caractere unice: 79\n",
      "Unique words train: 7750\n",
      "Unique words test: 3605\n",
      "Unique words validation: 3932\n",
      "Out of vocabulary: 1634\n",
      "Out of vocabulary percentage 14.434628975265017\n"
     ]
    },
    {
     "data": {
      "text/plain": [
       "<BarContainer object of 25 artists>"
      ]
     },
     "execution_count": 51,
     "metadata": {},
     "output_type": "execute_result"
    },
    {
     "data": {
      "image/png": "[encoded data removed]",
      "text/plain": [
       "<Figure size 720x360 with 1 Axes>"
      ]
     },
     "metadata": {
      "needs_background": "light"
     },
     "output_type": "display_data"
    }
   ],
   "source": [
    "chars = set()\n",
    "totalChars = 0\n",
    "char_freq = {}\n",
    "\n",
    "trainSet = set()\n",
    "for line in trainLabels:\n",
    "    chars = chars.union(set(list(line)))\n",
    "    words = line.split(' ')\n",
    "    for word in words:\n",
    "        trainSet.add(word)\n",
    "    for char in set(line) :\n",
    "        char_freq[char] = char_freq.get(char, 0) + line.count(char)\n",
    "    totalChars += len(line)\n",
    "    \n",
    "testSet = set()\n",
    "for line in testLabels:\n",
    "    chars = chars.union(set(list(line)))\n",
    "    words = line.split(' ')\n",
    "    for word in words:\n",
    "        testSet.add(word)\n",
    "    for char in set(line) :\n",
    "        char_freq[char] = char_freq.get(char, 0) + line.count(char)\n",
    "    totalChars += len(line)\n",
    "        \n",
    "validSet = set()\n",
    "for line in validLabels:\n",
    "    chars = chars.union(set(list(line)))\n",
    "    words = line.split(' ')\n",
    "    for word in words:\n",
    "        validSet.add(word)\n",
    "    for char in set(line) :\n",
    "        char_freq[char] = char_freq.get(char, 0) + line.count(char)\n",
    "    totalChars += len(line)\n",
    "        \n",
    "trainValidSet = trainSet.union(validSet)\n",
    "testDiffTrainValid = testSet.difference(trainValidSet)\n",
    "print(\"Caractere unice:\", len(chars))\n",
    "print(\"Unique words train:\",len(trainSet))\n",
    "print(\"Unique words test:\",len(testSet))\n",
    "print(\"Unique words validation:\",len(validSet))\n",
    "print(\"Out of vocabulary:\", len(testDiffTrainValid))\n",
    "print(\"Out of vocabulary percentage\", len(testDiffTrainValid) / \n",
    "      len(trainValidSet.union(testSet)) * 100)\n",
    "len(trainValidSet.union(testSet))\n",
    "\n",
    "for key in char_freq.copy():\n",
    "    char_freq[key] = char_freq[key] / totalChars * 100\n",
    "\n",
    "import operator\n",
    "sorted_dict = sorted(char_freq.items(), key=operator.itemgetter(1))\n",
    "sorted_dict = [(k,v) for (k,v) in sorted_dict if v > 0.5 ]\n",
    "\n",
    "import numpy as np\n",
    "import matplotlib.pyplot as plt\n",
    "\n",
    "plt.figure(figsize=(10,5))\n",
    "labels, values = zip(*sorted_dict)\n",
    "plt.bar(labels,values, width = 0.75, color='g', linewidth = 1)"
   ]
  },
  {
   "cell_type": "code",
   "execution_count": 61,
   "metadata": {},
   "outputs": [
    {
     "ename": "AttributeError",
     "evalue": "module 'cv2.cv2' has no attribute 'version'",
     "output_type": "error",
     "traceback": [
      "\u001b[1;31m---------------------------------------------------------------------------\u001b[0m",
      "\u001b[1;31mAttributeError\u001b[0m                            Traceback (most recent call last)",
      "\u001b[1;32m<ipython-input-61-e1f11dec129c>\u001b[0m in \u001b[0;36m<module>\u001b[1;34m()\u001b[0m\n\u001b[0;32m      1\u001b[0m \u001b[1;32mimport\u001b[0m \u001b[0mcv2\u001b[0m\u001b[1;33m\u001b[0m\u001b[0m\n\u001b[1;32m----> 2\u001b[1;33m \u001b[0mcv2\u001b[0m\u001b[1;33m.\u001b[0m\u001b[0mcv2\u001b[0m\u001b[1;33m.\u001b[0m\u001b[0mversion\u001b[0m\u001b[1;33m.\u001b[0m\u001b[0mversion\u001b[0m\u001b[1;33m\u001b[0m\u001b[0m\n\u001b[0m",
      "\u001b[1;31mAttributeError\u001b[0m: module 'cv2.cv2' has no attribute 'version'"
     ]
    }
   ],
   "source": [
    "import cv2\n",
    "cv2.cv2.version.version"
   ]
  }
 ],
 "metadata": {
  "kernelspec": {
   "display_name": "Python 3",
   "language": "python",
   "name": "python3"
  },
  "language_info": {
   "codemirror_mode": {
    "name": "ipython",
    "version": 3
   },
   "file_extension": ".py",
   "mimetype": "text/x-python",
   "name": "python",
   "nbconvert_exporter": "python",
   "pygments_lexer": "ipython3",
   "version": "3.7.0"
  }
 },
 "nbformat": 4,
 "nbformat_minor": 2
}
